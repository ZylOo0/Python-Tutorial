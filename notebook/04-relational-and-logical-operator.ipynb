{
 "cells": [
  {
   "cell_type": "markdown",
   "id": "first-dollar",
   "metadata": {},
   "source": [
    "# 关系运算符与逻辑运算符\n",
    "\n",
    "## True 与 False 关键字\n",
    "\n",
    "Python 中有 `True` 和 `False` 关键字，对应了我们生活中的“真”、“假”。\n",
    "\n",
    "- “橙子是一种水果”，这句话就应该判断为 `True`\n",
    "- “地球是宇宙中心”，这句话就应该判断为 `False`\n",
    "\n",
    "## 关系运算符\n",
    "\n",
    "Python 中有以下的关系运算符，用于比较两个操作数的关系：\n",
    "\n",
    "- `==`：相等\n",
    "- `!=`：不等\n",
    "- `>`：大于\n",
    "- `>=`：大于等于\n",
    "- `<`：小于\n",
    "- `<=`：小于等于\n",
    "- `is`\n",
    "- `is not`\n",
    "\n",
    "其中 `is` 和 `is not` 运算符需要面向对象的知识，我们可以暂时认为 `is` 与 `==` 相同，`is not` 与 `!=` 相同。\n",
    "\n",
    "使用关系运算符连接两个操作数，形成关系表达式。\n",
    "\n",
    "下面代码中就是关系表达式，运行它们，就会得到 `True` 或者 `Flase`："
   ]
  },
  {
   "cell_type": "code",
   "execution_count": null,
   "id": "subject-louis",
   "metadata": {},
   "outputs": [],
   "source": [
    "5 > 3"
   ]
  },
  {
   "cell_type": "code",
   "execution_count": null,
   "id": "durable-information",
   "metadata": {},
   "outputs": [],
   "source": [
    "5 < 3"
   ]
  },
  {
   "cell_type": "code",
   "execution_count": null,
   "id": "vanilla-glance",
   "metadata": {},
   "outputs": [],
   "source": [
    "5 >= 5"
   ]
  },
  {
   "cell_type": "code",
   "execution_count": null,
   "id": "golden-landscape",
   "metadata": {},
   "outputs": [],
   "source": [
    "5 <= 5"
   ]
  },
  {
   "cell_type": "markdown",
   "id": "fresh-letters",
   "metadata": {},
   "source": [
    "要注意区分 `=` 和 `==`。`=` 是赋值符，`==` 是关系运算符。下面用 `=` 将 `n` 赋值为 3，再用 `==` 判断它是否与 2 相等："
   ]
  },
  {
   "cell_type": "code",
   "execution_count": null,
   "id": "elementary-seminar",
   "metadata": {},
   "outputs": [],
   "source": [
    "n = 3\n",
    "n == 2"
   ]
  },
  {
   "cell_type": "markdown",
   "id": "diverse-warrant",
   "metadata": {},
   "source": [
    "用 `!=` 判断是否不等，这里 10 不等于 5，所以运算结果为 `True`："
   ]
  },
  {
   "cell_type": "code",
   "execution_count": null,
   "id": "alien-denmark",
   "metadata": {},
   "outputs": [],
   "source": [
    "10 != 5"
   ]
  },
  {
   "cell_type": "markdown",
   "id": "drawn-techno",
   "metadata": {},
   "source": [
    "## 逻辑运算符\n",
    "\n",
    "在程序中会有很多复杂的逻辑，仅使用关系运算符不足以表达这些逻辑。\n",
    "\n",
    "举个生活中的例子，“如果明天是晴天或者阴天，我们就去打球。”这样一句话中，“明天是晴天或者阴天”就包含了“或”的逻辑，我们可以这样理解：`明天是晴天 或 明天是阴天`。这里的 `明天是晴天` 和 `明天是阴天` 都是关系表达式，显然，仅使用关系运算符是不足以表达的，我们还需要 `或`，它就是逻辑运算符。\n",
    "\n",
    "在 Python 中，我们使用以下逻辑运算符来连接关系表达式：\n",
    "\n",
    "- `not`：表示“非”，放在表达式前面： `not <表达式>`\n",
    "\n",
    "原关系表达式的运算结果若为 `True`，加上 `not` 后则变为 `False`；若为 `Flase`，则变为 `True`。"
   ]
  },
  {
   "cell_type": "code",
   "execution_count": null,
   "id": "agricultural-willow",
   "metadata": {},
   "outputs": [],
   "source": [
    "not 10 == 5"
   ]
  },
  {
   "cell_type": "markdown",
   "id": "affecting-intellectual",
   "metadata": {},
   "source": [
    "- `and`：表示“且”，放在两个表达式之间：`<表达式1> and <表达式2>`\n",
    "\n",
    "只有当 2 个表达式都为 `True` 时，才可以得到 `True` 的结果；其他情况均为 `False`。"
   ]
  },
  {
   "cell_type": "code",
   "execution_count": null,
   "id": "incorporate-mambo",
   "metadata": {},
   "outputs": [],
   "source": [
    "10 > 5 and 20 > 5"
   ]
  },
  {
   "cell_type": "code",
   "execution_count": null,
   "id": "failing-acquisition",
   "metadata": {},
   "outputs": [],
   "source": [
    "10 > 5 and 10 > 20"
   ]
  },
  {
   "cell_type": "markdown",
   "id": "infrared-briefing",
   "metadata": {},
   "source": [
    "- `or`：表示“或”，放在两个表达式之间：`<表达式1> or <表达式2>`\n",
    "\n",
    "只有当 2 个表达式都为 `False` 时，才会得到 `False` 的结果；其他情况均为 `True`。"
   ]
  },
  {
   "cell_type": "code",
   "execution_count": null,
   "id": "eastern-september",
   "metadata": {},
   "outputs": [],
   "source": [
    "10 > 5 or 10 > 20"
   ]
  },
  {
   "cell_type": "code",
   "execution_count": null,
   "id": "stuffed-adams",
   "metadata": {},
   "outputs": [],
   "source": [
    "5 > 10 or 10 > 20"
   ]
  },
  {
   "cell_type": "markdown",
   "id": "expensive-saver",
   "metadata": {},
   "source": [
    "这节课，你学会了使用基本的关系运算符和逻辑运算符。那这些运算符有什么用呢？它们主要用在流程控制语句中，我们下一节课将会讲解最简单的流程控制语句。"
   ]
  }
 ],
 "metadata": {
  "jupytext": {
   "cell_metadata_filter": "-all",
   "notebook_metadata_filter": "-all",
   "text_representation": {
    "extension": ".md",
    "format_name": "markdown"
   }
  },
  "kernelspec": {
   "display_name": "Python 3",
   "language": "python",
   "name": "python3"
  }
 },
 "nbformat": 4,
 "nbformat_minor": 5
}
